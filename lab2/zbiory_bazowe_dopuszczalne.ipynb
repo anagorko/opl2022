{
 "cells": [
  {
   "cell_type": "code",
   "execution_count": 1,
   "id": "2e94b7fd-c7af-40c1-90c1-ca97fe318a30",
   "metadata": {},
   "outputs": [],
   "source": [
    "from itertools import combinations\n",
    "\n",
    "def zbiory_bazowe_dopuszczalne(A, b):\n",
    "    n = A.ncols()  # wymiar przestrzeni\n",
    "    m = A.nrows()  # liczba równań\n",
    "\n",
    "    bazowe_dopuszczalne = []\n",
    "    \n",
    "    for Base in combinations(range(n), m):\n",
    "        AB = A.matrix_from_columns(Base)\n",
    "        if AB.det() != 0:\n",
    "            if min(~AB * b) >= 0:\n",
    "                bazowe_dopuszczalne.append(Base)\n",
    "\n",
    "    return bazowe_dopuszczalne"
   ]
  },
  {
   "cell_type": "code",
   "execution_count": 2,
   "id": "e2e87338-c245-4b25-b4a6-b9b8b505162e",
   "metadata": {},
   "outputs": [
    {
     "data": {
      "text/plain": [
       "[(0, 1), (0, 3), (0, 4), (1, 2), (1, 4), (2, 3), (2, 4)]"
      ]
     },
     "execution_count": 2,
     "metadata": {},
     "output_type": "execute_result"
    }
   ],
   "source": [
    "A = matrix(QQ, [[1,2,3,-1,1], [2,5,6,1,-1]])\n",
    "b = vector(QQ, [1, 2])\n",
    "\n",
    "zbiory_bazowe_dopuszczalne(A, b)"
   ]
  },
  {
   "cell_type": "code",
   "execution_count": null,
   "id": "7cd85e6c-9186-4c40-b158-dccf85b4ae55",
   "metadata": {},
   "outputs": [],
   "source": []
  }
 ],
 "metadata": {
  "kernelspec": {
   "display_name": "SageMath 9.6",
   "language": "sage",
   "name": "sagemath"
  },
  "language_info": {
   "codemirror_mode": {
    "name": "ipython",
    "version": 3
   },
   "file_extension": ".py",
   "mimetype": "text/x-python",
   "name": "python",
   "nbconvert_exporter": "python",
   "pygments_lexer": "ipython3",
   "version": "3.9.13"
  }
 },
 "nbformat": 4,
 "nbformat_minor": 5
}
