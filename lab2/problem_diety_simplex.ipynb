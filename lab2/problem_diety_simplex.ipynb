{
 "cells": [
  {
   "cell_type": "markdown",
   "metadata": {},
   "source": [
    "<p>\n",
    "<em><strong><em class=\"u\">Zadanie 1 (problem diety).</em></strong></em>\n",
    " Przepisy żywieniowe ustanowione przez nowo utworzoną Inspekcję Zdrowia Narodowego wymagają od ursynowskiego baru <a href=\"https://www.facebook.com/pubjanusz/\" class=\"urlextern\" title=\"https://www.facebook.com/pubjanusz/\"  rel=\"nofollow\">&quot;Janusz&quot;</a>, prowadzonego przez Janusza znanego z teledysku <a href=\"https://www.youtube.com/watch?v=-yoooQvXnQY\" class=\"urlextern\" title=\"https://www.youtube.com/watch?v=-yoooQvXnQY\"  rel=\"nofollow\">Prohibicja</a>, aby każda serwowana potrawa zawierała 0.5 mg witaminy A, 15 mg witaminy B oraz 4 g błonnika. Zważywszy, że menu baru składa się z zapiekanek, frytek oraz parówek, właściciel zdecydował się uzupełnić każde danie o porcje marchwi, kapusty oraz ogórków piklowanych, tak aby z jednej strony sprostać wymogom prawa, a z drugiej strony zminimalizować koszty.\n",
    "</p>\n",
    "<div class=\"table sectionedit3\"><table class=\"inline\">\n",
    "\t<thead>\n",
    "\t<tr class=\"row0\">\n",
    "\t\t<th class=\"col0 leftalign\">                </th><th class=\"col1 centeralign\">   Marchew     </th><th class=\"col2 leftalign\"> Kapusta kwaszona   </th><th class=\"col3\"> Ogórki piklowane </th>\n",
    "\t</tr>\n",
    "\t</thead>\n",
    "\t<tr class=\"row1\">\n",
    "\t\t<td class=\"col0 leftalign\"> Witamina A (mg/kg)    </td><td class=\"col1 centeralign\">    35         </td><td class=\"col2 centeralign\">        0.5        </td><td class=\"col3 centeralign\">  0.5  </td>\n",
    "\t</tr>\n",
    "\t<tr class=\"row2\">\n",
    "\t\t<td class=\"col0 leftalign\"> Witamina C (mg/kg)    </td><td class=\"col1 centeralign\">    60         </td><td class=\"col2 centeralign\">        300        </td><td class=\"col3 centeralign\">  10   </td>\n",
    "\t</tr>\n",
    "\t<tr class=\"row3\">\n",
    "\t\t<td class=\"col0 leftalign\"> Błonnik [g/kg]        </td><td class=\"col1 centeralign\">    30         </td><td class=\"col2 centeralign\">        20         </td><td class=\"col3 centeralign\">  10   </td>\n",
    "\t</tr>\n",
    "\t<tr class=\"row4\">\n",
    "\t\t<td class=\"col0 leftalign\"> Cena [zł/kg]          </td><td class=\"col1 centeralign\">    2          </td><td class=\"col2 centeralign\">        1.5        </td><td class=\"col3 centeralign\">  5    </td>\n",
    "\t</tr>\n",
    "</table></div>\n",
    "<p>\n",
    "Pomóż Januszowi wybrać właściwe dodatki możliwie niskim kosztem.\n",
    "</p>"
   ]
  },
  {
   "cell_type": "code",
   "execution_count": null,
   "metadata": {
    "collapsed": false,
    "jupyter": {
     "outputs_hidden": false
    }
   },
   "outputs": [],
   "source": [
    "# Poniżej należy utworzyć odpowiednią dla tego problemu instancję klasy InteractiveLPProblem i rozwiązać problem chodząc po wierzchołkach zbioru dopszczalnego za pomocą metod .enter i .leave\n"
   ]
  }
 ],
 "metadata": {
  "kernelspec": {
   "display_name": "SageMath 9.1",
   "language": "sage",
   "name": "sagemath"
  },
  "language_info": {
   "codemirror_mode": {
    "name": "ipython",
    "version": 3
   },
   "file_extension": ".py",
   "mimetype": "text/x-python",
   "name": "python",
   "nbconvert_exporter": "python",
   "pygments_lexer": "ipython3",
   "version": "3.7.3"
  }
 },
 "nbformat": 4,
 "nbformat_minor": 4
}
