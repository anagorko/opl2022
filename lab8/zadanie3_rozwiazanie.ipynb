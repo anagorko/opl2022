{
 "cells": [
  {
   "cell_type": "code",
   "execution_count": 2,
   "id": "7c9b2b4d-c46a-4bfd-bbb2-b0f5422c6faf",
   "metadata": {},
   "outputs": [
    {
     "name": "stdout",
     "output_type": "stream",
     "text": [
      "Help on LazyImport in module sage.numerical.mip:\n",
      "\n",
      "MixedIntegerLinearProgram(...)\n",
      "    MixedIntegerLinearProgram(solver=None, maximization=True, constraint_generation=False, check_redundant=False, names=tuple(), base_ring=None)\n",
      "    File: sage/numerical/mip.pyx (starting at line 245)\n",
      "    \n",
      "        The ``MixedIntegerLinearProgram`` class is the link between Sage, linear\n",
      "        programming (LP) and mixed integer programming (MIP) solvers.\n",
      "    \n",
      "        A Mixed Integer Linear Program (MILP) consists of variables, linear\n",
      "        constraints on these variables, and an objective function which is to be\n",
      "        maximised or minimised under these constraints.\n",
      "    \n",
      "        See the thematic tutorial on `Linear Programming (Mixed Integer)\n",
      "        <../../../../thematic_tutorials/linear_programming.html>`_\n",
      "        or :wikipedia:`Linear_programming` for further information on linear\n",
      "        programming, and the :mod:`MILP module <sage.numerical.mip>` for its use in\n",
      "        Sage.\n",
      "    \n",
      "        INPUT:\n",
      "    \n",
      "        - ``solver`` -- selects a solver; see `Solvers (backends)\n",
      "          <../../../../thematic_tutorials/linear_programming.html#solvers-backends>`_\n",
      "          for more information and installation instructions for optional\n",
      "          solvers.\n",
      "    \n",
      "          - ``solver=\"GLPK\"``: The `GNU Linear Programming Kit\n",
      "            <http://www.gnu.org/software/glpk/>`_.\n",
      "    \n",
      "          - ``solver=\"GLPK/exact\"``: GLPK's implementation of an exact rational simplex\n",
      "            method.\n",
      "    \n",
      "          - ``solver=\"Coin\"``: The `COIN-OR CBC (COIN Branch and Cut) solver\n",
      "            <http://www.coin-or.org>`_.\n",
      "    \n",
      "          - ``solver=\"CPLEX\"``, provided by the proprietary `IBM ILOG CPLEX\n",
      "            Optimization Studio <https://www.ibm.com/products/ilog-cplex-optimization-studio/>`_.\n",
      "    \n",
      "          - ``solver=\"Gurobi\"``: The proprietary `Gurobi solver <http://www.gurobi.com/>`_.\n",
      "    \n",
      "          - ``solver=\"CVXOPT\"``: See the `CVXOPT <http://www.cvxopt.org/>`_ web site.\n",
      "    \n",
      "          - ``solver=\"PPL\"``: An exact rational solver (for small scale instances)\n",
      "            provided by the `Parma Polyhedra Library (PPL) <http://bugseng.com/products/ppl>`_.\n",
      "    \n",
      "          - ``solver=\"InteractiveLP\"``: A didactical\n",
      "            implementation of the revised simplex method in Sage.  It works over\n",
      "            any exact ordered field, the default is ``QQ``.\n",
      "    \n",
      "          - If ``solver=None`` (default), the default solver is used (see\n",
      "            :func:`default_mip_solver`).\n",
      "    \n",
      "          - ``solver`` can also be a callable (such as a class),\n",
      "            see :func:`sage.numerical.backends.generic_backend.get_solver` for\n",
      "            examples.\n",
      "    \n",
      "        - ``maximization``\n",
      "    \n",
      "          - When set to ``True`` (default), the ``MixedIntegerLinearProgram``\n",
      "            is defined as a maximization.\n",
      "    \n",
      "          - When set to ``False``, the ``MixedIntegerLinearProgram`` is\n",
      "            defined as a minimization.\n",
      "    \n",
      "        - ``constraint_generation`` -- Only used when ``solver=None``.\n",
      "    \n",
      "          - When set to ``True``, after solving the ``MixedIntegerLinearProgram``,\n",
      "            it is possible to add a constraint, and then solve it again.\n",
      "            The effect is that solvers that do not support this feature will not be\n",
      "            used.\n",
      "    \n",
      "          - Defaults to ``False``.\n",
      "    \n",
      "        .. SEEALSO::\n",
      "    \n",
      "         - :func:`default_mip_solver` -- Returns/Sets the default MIP solver.\n",
      "    \n",
      "        EXAMPLES:\n",
      "    \n",
      "        Computation of a maximum stable set in Petersen's graph::\n",
      "    \n",
      "             sage: g = graphs.PetersenGraph()\n",
      "             sage: p = MixedIntegerLinearProgram(maximization=True,solver='GLPK')\n",
      "             sage: b = p.new_variable(binary=True)\n",
      "             sage: p.set_objective(sum([b[v] for v in g]))\n",
      "             sage: for (u,v) in g.edges(labels=None):\n",
      "             ....:     p.add_constraint(b[u] + b[v], max=1)\n",
      "             sage: p.solve(objective_only=True)\n",
      "             4.0\n",
      "    \n",
      "        TESTS:\n",
      "    \n",
      "        Check that :trac:`16497` is fixed::\n",
      "    \n",
      "            sage: for type in [\"binary\", \"integer\"]:\n",
      "            ....:     k = 3\n",
      "            ....:     items = [1/5, 1/3, 2/3, 3/4, 5/7]\n",
      "            ....:     maximum=1\n",
      "            ....:     p=MixedIntegerLinearProgram(solver='GLPK')\n",
      "            ....:     box=p.new_variable(nonnegative=True, **{type:True})\n",
      "            ....:     for b in range(k):\n",
      "            ....:          p.add_constraint(p.sum([items[i]*box[i,b] for i in range(len(items))]) <= maximum)\n",
      "            ....:     for i in range(len(items)):\n",
      "            ....:         p.add_constraint(p.sum([box[i,b] for b in range(k)]) == 1)\n",
      "            ....:     p.set_objective(None)\n",
      "            ....:     _ = p.solve()\n",
      "            ....:     box=p.get_values(box)\n",
      "            ....:     print(all(v in ZZ for v in box.values()))\n",
      "            True\n",
      "            True\n",
      "\n"
     ]
    }
   ],
   "source": [
    "help(MixedIntegerLinearProgram)"
   ]
  },
  {
   "cell_type": "code",
   "execution_count": 23,
   "id": "040ed3e8-e8ec-4828-a2f3-976435af3aa5",
   "metadata": {},
   "outputs": [],
   "source": [
    "P = MixedIntegerLinearProgram()"
   ]
  },
  {
   "cell_type": "code",
   "execution_count": 24,
   "id": "fbd1897b-273f-4a34-ba16-6e89a8b5af79",
   "metadata": {},
   "outputs": [
    {
     "data": {
      "text/plain": [
       "[(4, 2, 1),\n",
       " (4, 5, 7),\n",
       " (1, 4, 9),\n",
       " (6, 6, 4),\n",
       " (7, 8, 9),\n",
       " (2, 3, 4),\n",
       " (6, 4, 6),\n",
       " (2, 1, 9)]"
      ]
     },
     "execution_count": 24,
     "metadata": {},
     "output_type": "execute_result"
    }
   ],
   "source": [
    "W = 'DBA DEG ADI FFD GHI BCD FDF BAI'.split()\n",
    "wyraz = [vector(ord(w[i]) - ord('A') + 1 for i in range(3)) for w in W]\n",
    "wyraz"
   ]
  },
  {
   "cell_type": "code",
   "execution_count": 28,
   "id": "b1f861bc-49fa-4743-aa35-4380c07a13e0",
   "metadata": {},
   "outputs": [],
   "source": [
    "# suma <(0,0,1) * wyraz[i]> * x_i\n",
    "\n",
    "x = P.new_variable(binary=True)\n",
    "\n",
    "P.set_objective(sum(vector([0,0,1]) * wyraz[i] * x[i] for i in range(8)))\n",
    "P.add_constraint(sum(vector([1,0,0]) * wyraz[i] * x[i] for i in range(8)) >= sum(wyraz[i][1] * x[i] for i in range(8)))"
   ]
  },
  {
   "cell_type": "code",
   "execution_count": 29,
   "id": "3d06186c-6b67-4d99-8f23-680a1d4d6be5",
   "metadata": {},
   "outputs": [
    {
     "name": "stdout",
     "output_type": "stream",
     "text": [
      "Maximization:\n",
      "  x_16 + 7.0 x_17 + 9.0 x_18 + 4.0 x_19 + 9.0 x_20 + 4.0 x_21 + 6.0 x_22 + 9.0 x_23 \n",
      "\n",
      "Constraints:\n",
      "  -2.0 x_16 + x_17 + 3.0 x_18 + x_20 + x_21 - 2.0 x_22 - x_23 <= 0.0\n",
      "Variables:\n",
      "  x_0 is a boolean variable (min=0.0, max=1.0)\n",
      "  x_1 is a boolean variable (min=0.0, max=1.0)\n",
      "  x_2 is a boolean variable (min=0.0, max=1.0)\n",
      "  x_3 is a boolean variable (min=0.0, max=1.0)\n",
      "  x_4 is a boolean variable (min=0.0, max=1.0)\n",
      "  x_5 is a boolean variable (min=0.0, max=1.0)\n",
      "  x_6 is a boolean variable (min=0.0, max=1.0)\n",
      "  x_7 is a boolean variable (min=0.0, max=1.0)\n",
      "  x_8 is a boolean variable (min=0.0, max=1.0)\n",
      "  x_9 is a boolean variable (min=0.0, max=1.0)\n",
      "  x_10 is a boolean variable (min=0.0, max=1.0)\n",
      "  x_11 is a boolean variable (min=0.0, max=1.0)\n",
      "  x_12 is a boolean variable (min=0.0, max=1.0)\n",
      "  x_13 is a boolean variable (min=0.0, max=1.0)\n",
      "  x_14 is a boolean variable (min=0.0, max=1.0)\n",
      "  x_15 is a boolean variable (min=0.0, max=1.0)\n",
      "  x_16 is a boolean variable (min=0.0, max=1.0)\n",
      "  x_17 is a boolean variable (min=0.0, max=1.0)\n",
      "  x_18 is a boolean variable (min=0.0, max=1.0)\n",
      "  x_19 is a boolean variable (min=0.0, max=1.0)\n",
      "  x_20 is a boolean variable (min=0.0, max=1.0)\n",
      "  x_21 is a boolean variable (min=0.0, max=1.0)\n",
      "  x_22 is a boolean variable (min=0.0, max=1.0)\n",
      "  x_23 is a boolean variable (min=0.0, max=1.0)\n"
     ]
    }
   ],
   "source": [
    "P.show()"
   ]
  },
  {
   "cell_type": "code",
   "execution_count": 31,
   "id": "44725caf-2ff3-4be8-b96d-f7c155655931",
   "metadata": {},
   "outputs": [
    {
     "data": {
      "text/plain": [
       "45.0"
      ]
     },
     "execution_count": 31,
     "metadata": {},
     "output_type": "execute_result"
    }
   ],
   "source": [
    "P.solve()"
   ]
  },
  {
   "cell_type": "code",
   "execution_count": 32,
   "id": "726a9d38-bb30-4b76-88fe-a8f34db33c8f",
   "metadata": {},
   "outputs": [
    {
     "data": {
      "text/plain": [
       "{0: 1.0, 1: 1.0, 2: 1.0, 3: 1.0, 4: 1.0, 5: 0.0, 6: 1.0, 7: 1.0}"
      ]
     },
     "execution_count": 32,
     "metadata": {},
     "output_type": "execute_result"
    }
   ],
   "source": [
    "P.get_values(x)"
   ]
  },
  {
   "cell_type": "code",
   "execution_count": 34,
   "id": "894043df-b83e-4246-8c2a-7963dde8936d",
   "metadata": {},
   "outputs": [
    {
     "data": {
      "text/plain": [
       "{'ADI', 'BAI', 'DBA', 'DEG', 'FDF', 'FFD', 'GHI'}"
      ]
     },
     "execution_count": 34,
     "metadata": {},
     "output_type": "execute_result"
    }
   ],
   "source": [
    "{W[i] for i, v in P.get_values(x).items() if v == 1}"
   ]
  },
  {
   "cell_type": "code",
   "execution_count": 35,
   "id": "8b1a9acf-e3e3-4632-921a-334f1fe39b96",
   "metadata": {},
   "outputs": [],
   "source": [
    "P.add_constraint(sum(x[i] for i in range(8)) == 4)"
   ]
  },
  {
   "cell_type": "code",
   "execution_count": 36,
   "id": "0d5b870f-4216-43a1-9944-971aa5299a27",
   "metadata": {},
   "outputs": [
    {
     "data": {
      "text/plain": [
       "31.0"
      ]
     },
     "execution_count": 36,
     "metadata": {},
     "output_type": "execute_result"
    }
   ],
   "source": [
    "P.solve()"
   ]
  },
  {
   "cell_type": "code",
   "execution_count": 37,
   "id": "ac2884d1-de24-4364-8856-ef54f730565b",
   "metadata": {},
   "outputs": [
    {
     "data": {
      "text/plain": [
       "{0: 0.0, 1: 1.0, 2: 0.0, 3: 0.0, 4: 1.0, 5: 0.0, 6: 1.0, 7: 1.0}"
      ]
     },
     "execution_count": 37,
     "metadata": {},
     "output_type": "execute_result"
    }
   ],
   "source": [
    "P.get_values(x)"
   ]
  },
  {
   "cell_type": "code",
   "execution_count": 38,
   "id": "d725e9a6-30dc-423f-a2f8-cc50e9635281",
   "metadata": {},
   "outputs": [
    {
     "data": {
      "text/plain": [
       "{'BAI', 'DEG', 'FDF', 'GHI'}"
      ]
     },
     "execution_count": 38,
     "metadata": {},
     "output_type": "execute_result"
    }
   ],
   "source": [
    "{W[i] for i, v in P.get_values(x).items() if v == 1}"
   ]
  },
  {
   "cell_type": "code",
   "execution_count": null,
   "id": "f67af782-0e47-4feb-9289-ad597f8e07f8",
   "metadata": {},
   "outputs": [],
   "source": []
  }
 ],
 "metadata": {
  "kernelspec": {
   "display_name": "SageMath 9.6",
   "language": "sage",
   "name": "sagemath"
  },
  "language_info": {
   "codemirror_mode": {
    "name": "ipython",
    "version": 3
   },
   "file_extension": ".py",
   "mimetype": "text/x-python",
   "name": "python",
   "nbconvert_exporter": "python",
   "pygments_lexer": "ipython3",
   "version": "3.9.13"
  }
 },
 "nbformat": 4,
 "nbformat_minor": 5
}
