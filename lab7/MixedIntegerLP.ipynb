{
 "cells": [
  {
   "cell_type": "markdown",
   "metadata": {},
   "source": [
    "# Mixed Integer Linear Programming\n",
    "\n",
    "Zapoznamy się ze składnią klasy `MixedIntegerLinearProgram` pozwalającej na efektywne rozwiązywanie dużych problemów liniowych i całkowitoliczbowych.\n",
    "Pełna dokumentacja znajduje się [na tej stronie](http://doc.sagemath.org/html/en/reference/numerical/sage/numerical/mip.html). Dodatkowe przykłady [można znaleźć tu](https://doc.sagemath.org/html/en/thematic_tutorials/linear_programming.html)."
   ]
  },
  {
   "cell_type": "code",
   "execution_count": 1,
   "metadata": {},
   "outputs": [
    {
     "name": "stdout",
     "output_type": "stream",
     "text": [
      "Maximization:\n",
      "  3.0 x_0 -2.0 x_1 \n",
      "\n",
      "Constraints:\n",
      "  2.0 x_0 - x_1 <= 4.0\n",
      "  - x_0 - 3.0 x_1 <= -5.0\n",
      "  - x_1 <= 0.0\n",
      "Variables:\n",
      "  x_0 is a continuous variable (min=-oo, max=+oo)\n",
      "  x_1 is a continuous variable (min=-oo, max=+oo)\n",
      "Wartość optymalna 5.57142857142857\n",
      "Wartościowanie zmiennych {0: 2.4285714285714284, 1: 0.8571428571428572}\n"
     ]
    }
   ],
   "source": [
    "# Przykład minimalny pokazujący wygodny sposób specyfikowania ograniczeń\n",
    "\n",
    "lp = MixedIntegerLinearProgram(maximization=True)\n",
    "\n",
    "# Zmienne naszego problemu to x[0], x[1], ...\n",
    "x = lp.new_variable()\n",
    "\n",
    "lp.set_objective(3*x[0] - 2*x[1])\n",
    "\n",
    "# dodajemy nierówności\n",
    "lp.add_constraint(2*x[0] - x[1] <= 4)\n",
    "lp.add_constraint(x[0] + 3*x[1] >= 5)\n",
    "lp.add_constraint(x[1] >= 0)\n",
    "\n",
    "# Wypisanie problemu\n",
    "lp.show()\n",
    "\n",
    "# wynik optymalizacji\n",
    "print(\"Wartość optymalna\", lp.solve())\n",
    "\n",
    "# wartosci zmiennych\n",
    "print(\"Wartościowanie zmiennych\", lp.get_values(x))"
   ]
  },
  {
   "cell_type": "code",
   "execution_count": 2,
   "metadata": {},
   "outputs": [
    {
     "name": "stdout",
     "output_type": "stream",
     "text": [
      "Optymalna wartość funkcji celu =  329160687952391321614259596157951/404260725213309252405715172077872\n",
      "x= 883621487687536435602885920075665/404260725213309252405715172077872  y= 351835391069987397106670749886053/404260725213309252405715172077872  r= 329160687952391321614259596157951/404260725213309252405715172077872\n"
     ]
    },
    {
     "data": {
      "image/png": "[encoded data removed]",
      "text/plain": [
       "Graphics object consisting of 2 graphics primitives"
      ]
     },
     "execution_count": 2,
     "metadata": {},
     "output_type": "execute_result"
    }
   ],
   "source": [
    "# Maksymalne koło wpisane - tym razem zakodowany za pomocą MixedIntegerLinearProgram\n",
    "\n",
    "# Dane problemu\n",
    "\n",
    "W = [ (0.0, 0.2), (0.0, 1.0), (3.0, 2.0), (3.0, 0.0) ]\n",
    "\n",
    "# Rozwiązanie problemu\n",
    "\n",
    "p = MixedIntegerLinearProgram(solver='ppl') # Solver inny niż domyślny GLPK\n",
    "var = p.new_variable(nonnegative=True) # Zakładamy, że wielokąt jest w pierwszej ćwiartce\n",
    " \n",
    "x, y, r = var['x'], var['y'], var['r']\n",
    "\n",
    "p.set_objective(r)\n",
    "\n",
    "# A, B - punkty leżące na brzegu półpłaszczyzny; P - punkt leżący wewnątrz\n",
    "def add_halfplane_constraint(A, B, P):\n",
    "    dx = A[0] - B[0]\n",
    "    dy = A[1] - B[1]\n",
    "    c = dy * A[0] - dx * A[1]\n",
    "\n",
    "    if -dy * P[0] + dx * P[1] + c < 0:\n",
    "        dx, dy, c = -dx, -dy, -c\n",
    "\n",
    "    p.add_constraint((-dy * x + dx * y + c) / sqrt(dy*dy + dx*dx) >= r)\n",
    "\n",
    "for i in range(len(W) - 2):\n",
    "    add_halfplane_constraint(W[i], W[i+1], W[i+2])\n",
    "\n",
    "add_halfplane_constraint(W[-2], W[-1], W[0])\n",
    "add_halfplane_constraint(W[-1], W[0], W[1])\n",
    "\n",
    "# Rozwiązanie problemu\n",
    "\n",
    "print('Optymalna wartość funkcji celu = ', p.solve())\n",
    "print('x=', p.get_values(x), ' y=', p.get_values(y), ' r=', p.get_values(r))\n",
    "\n",
    "# Wizualizacja\n",
    "\n",
    "W.append(W[0])\n",
    "circle((p.get_values(x), p.get_values(y)), p.get_values(r)) + list_plot(W, plotjoined=True)"
   ]
  },
  {
   "cell_type": "code",
   "execution_count": 0,
   "metadata": {},
   "outputs": [],
   "source": []
  }
 ],
 "metadata": {
  "kernelspec": {
   "display_name": "SageMath 9.2",
   "language": "sage",
   "name": "sagemath"
  },
  "language_info": {
   "codemirror_mode": {
    "name": "ipython",
    "version": 3
   },
   "file_extension": ".py",
   "mimetype": "text/x-python",
   "name": "python",
   "nbconvert_exporter": "python",
   "pygments_lexer": "ipython3",
   "version": "3.9.7"
  }
 },
 "nbformat": 4,
 "nbformat_minor": 4
}
