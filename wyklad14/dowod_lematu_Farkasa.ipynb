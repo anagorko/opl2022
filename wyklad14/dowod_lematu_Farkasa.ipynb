{
 "cells": [
  {
   "cell_type": "markdown",
   "metadata": {
    "collapsed": false
   },
   "source": [
    "# Lemat Farkasa\n",
    "\n",
    "Udowodnimy teraz\n",
    "\n",
    "**Lemat Farkasa**.\n",
    "\n",
    "Niech $A \\in M_{m \\times n}(\\mathbb{R})$ będzie macierzą o współczynnikach rzeczywistych, $m$ wierszach i $n$ kolumnach. Niech $b \\in \\mathbb{R}^m$ będzie dowolnym wektorem. Wtedy zachodzi dokładnie jeden z warunków\n",
    "\n",
    "**F1)** Istnieje wektor $x \\in \\mathbb{R}^n$ taki, że $Ax = b$ i $x \\geq 0$.\n",
    "\n",
    "**F2)** Istnieje wektor $y \\in \\mathbb{R}^m$ taki, że $y^T A \\geq 0^T$ i $y^T b < 0$."
   ]
  },
  {
   "cell_type": "markdown",
   "metadata": {
    "collapsed": false
   },
   "source": [
    "**Lemat 2**. Niech $a_1, a_2, \\ldots, a_n, b \\in \\mathbb{R}^m$. Zachodzi dokładnie jeden z warunków\n",
    "\n",
    "**F1')** $b \\in \\text{cone} (a_1, a_2, \\ldots, a_n) = \\{ t_1 a_1 + t_2 a_2 + \\cdots + t_n a_n \\colon t_1, t_2, \\ldots, t_n \\geq 0 \\}$\n",
    "\n",
    "**F2')** istnieje $y \\in \\mathbb{R}^m$ taki, że $y^T a_i \\geq 0$ i $y^T b < 0$.\n",
    "\n",
    "Pokazaliśmy wcześniej, że lemat 2 to inne sformułownie lematu Farkasa."
   ]
  },
  {
   "cell_type": "markdown",
   "metadata": {
    "collapsed": false
   },
   "source": [
    "**Lemat 3**. $C$ - stożek w $\\mathbb{R}^m$ generowany przez skończenie wiele wektorów $a_1, a_2, \\ldots, a_n$. Niech $b \\not\\in C$, $b\\in \\mathbb{R}^m$. Wtedy istnieje punkt $z \\in C$ najbliższy $b$."
   ]
  },
  {
   "cell_type": "markdown",
   "metadata": {
    "collapsed": false
   },
   "source": [
    "**Dowód lematu 2 z lematu 3**. Weźmy $y = z - b$, $z \\in C$ - punkt najbliższy $b$. Pokażemy, że $y^T z = 0$. Jasne dla $z = 0$. Dla $z \\neq 0$ załóżmy, że $y^T z > 0$. \n",
    "Niech $z' = (1-\\alpha)z$ dla małego $\\alpha > 0$. Mamy\n",
    "\n",
    "$$\n",
    "\\| z' - b \\|^2 = (y - \\alpha z)^T (y- \\alpha z) = \\| y \\|^2 - 2\\alpha y^Tz + \\alpha^2 \\| z \\|^2\n",
    "$$\n",
    "\n",
    "Dla dostatecznie małego $\\alpha$ mamy $2\\alpha y^T z > \\alpha^2 \\|z\\|^2$ i stąd\n",
    "\n",
    "$$\n",
    "\\| z' - b \\|^2 < \\| y \\|^2 = \\| z - b \\|^2,\n",
    "$$\n",
    "\n",
    "co przeczy założeniu, że $z$ jest najbliższym punktem ($z' \\in C$ bo $C$ to stożek).\n",
    "\n",
    "Przypadek $y^Tz < 0$ jest analogiczny.\n",
    "\n",
    "By sprawdzić, że $y^T b < 0$ mamy (bo $y \\neq 0$)\n",
    "\n",
    "$$\n",
    "0 < y^T y = y^T z - y^T b = -y^T b.\n",
    "$$\n",
    "\n",
    "Niech $x \\in C$, $x \\neq z$. Kąt $\\angle bzx$ musi być większy lub równy $90$ stopnii, bo inaczej punkty na odcinku $zx$ bliskie $z$ leżałyby bliżej $b$ niż $z$. Równoważnie: $(b-z)^T (x-z) \\leq 0$ (sprawdzenie jak wyżej).\n",
    "\n",
    "Stąd\n",
    "\n",
    "$$\n",
    "0 \\geq (b-z)^T (x-z) = -y^T x - y^T z = -y^T x\n",
    "$$\n",
    "\n",
    "co kończy dowód."
   ]
  },
  {
   "cell_type": "markdown",
   "metadata": {
    "collapsed": false
   },
   "source": [
    "**Lemat 4**. Niech $X$ będzie niepustym domkniętym podzbiorem $\\mathbb{R}^m$, $b \\in \\mathbb{R}^m$. Wtedy istnieje punkt w $X$ najbliższy $b$.\n",
    "\n",
    "**Dowód**. Niech $\\gamma = \\text{dist}(b, X) = \\inf_{x \\in X} d(x, b)$.\n",
    "\n",
    "Niech $\\gamma_n = d(x_n, b)$, gdzie $x_n \\in X$ są wybrane tak, że $\\gamma_n \\to \\gamma$.\n",
    "\n",
    "Mamy $R = \\sup \\{ \\gamma_n \\} < \\infty$, więc $\\{ x_n \\}$ jest ograniczony i ma podciąg zbieżny $\\{ x_{i_n} \\}$ do pewnego $x \\in \\mathbb{R}^m$.\n",
    "Ale $x \\in X$, bo $X$ jest domknięty. Jednocześnie $d(x, b) = \\lim_{n \\to \\infty} \\gamma_{i_n} = \\gamma$."
   ]
  },
  {
   "cell_type": "markdown",
   "metadata": {
    "collapsed": false
   },
   "source": [
    "**Lemat 5.** Każdy skończenie generowany stożek wypukły jest domknięty.\n",
    "\n",
    "**Dowód**. Taki stożek jest skończoną sumą stożków prostych (stożek prosty - stożek generowany przez liniowo niezależny układ wektorów)."
   ]
  },
  {
   "cell_type": "markdown",
   "metadata": {
    "collapsed": false
   },
   "source": [
    "**Lemat 6**. Każdy stożek prosty w $\\mathbb{R}^m$ jest domknięty.\n",
    "\n",
    "**Dowód**. $P_0 = \\text{cone}(e_1, e_2, \\ldots, e_k) \\subset \\mathbb{R}^k$ ($e_i$ to wektory bazy standardowej) jest domknięty jako przecięcie półprzestrzeni $x_i \\geq 0$, $i = 1, 2, \\ldots, k$.\n",
    "\n",
    "Niech $P \\subset \\mathbb{R}^m$, $P = \\text{cone}(a_1, a_2, \\ldots, a_k)$. Niech $f = \\colon \\mathbb{R}^k \\to \\mathbb{R}^m$ będzie przekształceniem liniowym zadanym wzorem $f(x) = x_1 a_1 + x_2 a_2 + \\cdots + x_k a_k$.\n",
    "Jest ono różnowartościowe z liniowej niezależności wektorów $a_1, a_2, \\ldots, a_k$ i $P = f(P_0) \\subset f(\\mathbb{R}^k)$. $f(\\mathbb{R}^k)$ jest domknięte w $\\mathbb{R}^m$ (jako podprzestrzeń liniowa) i $f(P_0) = g^{-1}(P)$ dla $g = f^{-1}$, przy czym $g$ jest ciągłe bo liniowe."
   ]
  },
  {
   "cell_type": "markdown",
   "metadata": {
    "collapsed": false
   },
   "source": [
    "----------------------\n",
    "\n",
    "Ta seria lematów daje dowód lematu 3 a co za tym idzie lematu Farkasa."
   ]
  },
  {
   "cell_type": "code",
   "execution_count": 0,
   "metadata": {
    "collapsed": false
   },
   "outputs": [
   ],
   "source": [
   ]
  }
 ],
 "metadata": {
  "kernelspec": {
   "display_name": "SageMath 9.3",
   "language": "sagemath",
   "metadata": {
    "cocalc": {
     "description": "Open-source mathematical software system",
     "priority": 1,
     "url": "https://www.sagemath.org/"
    }
   },
   "name": "sage-9.3",
   "resource_dir": "/ext/jupyter/kernels/sage-9.3"
  },
  "language_info": {
   "codemirror_mode": {
    "name": "ipython",
    "version": 2
   },
   "file_extension": ".py",
   "mimetype": "text/x-python",
   "name": "python",
   "nbconvert_exporter": "python",
   "pygments_lexer": "ipython2",
   "version": "2.7.15"
  }
 },
 "nbformat": 4,
 "nbformat_minor": 4
}